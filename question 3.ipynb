{
 "cells": [
  {
   "cell_type": "code",
   "execution_count": 3,
   "id": "9e7d4d9f",
   "metadata": {},
   "outputs": [
    {
     "name": "stdout",
     "output_type": "stream",
     "text": [
      "['Lemon', 'DragonFruit', 'Grapes', 'Orange', 'Limes']\n"
     ]
    }
   ],
   "source": [
    "Fruit=(('Lemon','sour'),('DragonFruit','Sour'),('Grapes','sOur'),('Kiwi','dfsf'),(\"Apples\",\"sweet\"),(\"Orange\",\"sour\"),(\"Blueberries\",\"sweet\"),(\"Limes\",\"Sour\"))\n",
    "sour_taste=[]\n",
    "for i in Fruit:\n",
    "    if(i[1].lower()=='sour'):\n",
    "        sour_taste.append(i[0])\n",
    "    \n",
    "print(sour_taste)"
   ]
  }
 ],
 "metadata": {
  "kernelspec": {
   "display_name": "Python 3 (ipykernel)",
   "language": "python",
   "name": "python3"
  },
  "language_info": {
   "codemirror_mode": {
    "name": "ipython",
    "version": 3
   },
   "file_extension": ".py",
   "mimetype": "text/x-python",
   "name": "python",
   "nbconvert_exporter": "python",
   "pygments_lexer": "ipython3",
   "version": "3.9.7"
  }
 },
 "nbformat": 4,
 "nbformat_minor": 5
}
