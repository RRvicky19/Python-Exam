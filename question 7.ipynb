{
 "cells": [
  {
   "cell_type": "code",
   "execution_count": 16,
   "id": "51533498",
   "metadata": {},
   "outputs": [],
   "source": [
    "given_sets =[[1,2,3,4,8],[2,3,8,5,6],[8,4,5,3,7],[6,9,8,3],[9,12,3,7,6,8,4,6,21,1,6]]\n",
    "a=[]\n",
    "s={}"
   ]
  },
  {
   "cell_type": "code",
   "execution_count": 18,
   "id": "2684ceb5",
   "metadata": {},
   "outputs": [],
   "source": [
    "for i in given_sets:\n",
    "    l=set(i)\n",
    "    a.append(l)"
   ]
  },
  {
   "cell_type": "code",
   "execution_count": 24,
   "id": "46387454",
   "metadata": {},
   "outputs": [
    {
     "name": "stdout",
     "output_type": "stream",
     "text": [
      "{8, 3}\n"
     ]
    }
   ],
   "source": [
    "z = a[0]&a[1]&a[2]&a[3]&a[4]\n",
    "print(z)"
   ]
  },
  {
   "cell_type": "code",
   "execution_count": null,
   "id": "d2a0ebf2",
   "metadata": {},
   "outputs": [],
   "source": []
  }
 ],
 "metadata": {
  "kernelspec": {
   "display_name": "Python 3 (ipykernel)",
   "language": "python",
   "name": "python3"
  },
  "language_info": {
   "codemirror_mode": {
    "name": "ipython",
    "version": 3
   },
   "file_extension": ".py",
   "mimetype": "text/x-python",
   "name": "python",
   "nbconvert_exporter": "python",
   "pygments_lexer": "ipython3",
   "version": "3.9.7"
  }
 },
 "nbformat": 4,
 "nbformat_minor": 5
}
