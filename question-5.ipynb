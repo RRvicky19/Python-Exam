{
 "cells": [
  {
   "cell_type": "code",
   "execution_count": 10,
   "id": "8272889d",
   "metadata": {},
   "outputs": [],
   "source": [
    "WeightOnEarth = {'John':45,'Shelby':65,'Marry':35}\n",
    "Gmoon=1.622\n",
    "Gearth=9.81\n",
    "WeightOnMoon = {}"
   ]
  },
  {
   "cell_type": "code",
   "execution_count": 14,
   "id": "301d43e1",
   "metadata": {},
   "outputs": [],
   "source": [
    "for i in WeightOnEarth:\n",
    "    wmoon = (WeightOnEarth[i]*Gmoon)/Gearth\n",
    "    WeightOnMoon[i] = round(wmoon,2)"
   ]
  },
  {
   "cell_type": "code",
   "execution_count": 15,
   "id": "0c347e33",
   "metadata": {},
   "outputs": [
    {
     "name": "stdout",
     "output_type": "stream",
     "text": [
      "{'John': 7.44, 'Shelby': 10.75, 'Marry': 5.79}\n"
     ]
    }
   ],
   "source": [
    "print(WeightOnMoon)"
   ]
  },
  {
   "cell_type": "code",
   "execution_count": null,
   "id": "c3c636e7",
   "metadata": {},
   "outputs": [],
   "source": []
  }
 ],
 "metadata": {
  "kernelspec": {
   "display_name": "Python 3 (ipykernel)",
   "language": "python",
   "name": "python3"
  },
  "language_info": {
   "codemirror_mode": {
    "name": "ipython",
    "version": 3
   },
   "file_extension": ".py",
   "mimetype": "text/x-python",
   "name": "python",
   "nbconvert_exporter": "python",
   "pygments_lexer": "ipython3",
   "version": "3.9.7"
  }
 },
 "nbformat": 4,
 "nbformat_minor": 5
}
