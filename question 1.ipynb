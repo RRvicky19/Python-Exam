{
 "cells": [
  {
   "cell_type": "code",
   "execution_count": 9,
   "id": "b2913175",
   "metadata": {},
   "outputs": [
    {
     "name": "stdout",
     "output_type": "stream",
     "text": [
      "he is a good boy  is a positive comments\n",
      "food is the worst here  is a negative comments\n",
      "he is a awesome player  is a positive comments\n",
      "she is the best  is a positive comments\n",
      "This pizza taste awful  is a negative comments\n",
      "These burger are really nice  is a positive comments\n"
     ]
    }
   ],
   "source": [
    "positive=[\"good\",\"awesome\",\"best\",\"nice\"]\n",
    "negative=[\"worst\",\"awful\"]\n",
    "comments=[\"he is a good boy\",\"food is the worst here\",\"he is a awesome player\",\"she is the best\",\"This pizza taste awful\",\"These burger are really nice\"]\n",
    "for i in comments:\n",
    "    words = i.split()\n",
    "    for j in words:\n",
    "        for k in positive:\n",
    "            if j == k:\n",
    "                print(i,\" is a positive comments\")\n",
    "        for k in negative:\n",
    "            if j == k:\n",
    "                print(i,\" is a negative comments\")\n",
    "        \n",
    "       "
   ]
  },
  {
   "cell_type": "code",
   "execution_count": null,
   "id": "907cbf2c",
   "metadata": {},
   "outputs": [],
   "source": []
  }
 ],
 "metadata": {
  "kernelspec": {
   "display_name": "Python 3 (ipykernel)",
   "language": "python",
   "name": "python3"
  },
  "language_info": {
   "codemirror_mode": {
    "name": "ipython",
    "version": 3
   },
   "file_extension": ".py",
   "mimetype": "text/x-python",
   "name": "python",
   "nbconvert_exporter": "python",
   "pygments_lexer": "ipython3",
   "version": "3.9.7"
  }
 },
 "nbformat": 4,
 "nbformat_minor": 5
}
