{
 "cells": [
  {
   "cell_type": "code",
   "execution_count": 15,
   "id": "54863ffc",
   "metadata": {},
   "outputs": [
    {
     "name": "stdout",
     "output_type": "stream",
     "text": [
      "Maria\n",
      "Hello\n",
      "World\n",
      "Merry\n",
      "You\n"
     ]
    }
   ],
   "source": [
    "namelist = [\"santa Maria\",\"Hello World\",\"Merry christmas\",\"tHank You\"]\n",
    "for i in namelist:\n",
    "    l = i.split()\n",
    "    for j in l:\n",
    "        if (j[0].isupper()):\n",
    "            print(j)\n"
   ]
  },
  {
   "cell_type": "code",
   "execution_count": null,
   "id": "50524d52",
   "metadata": {},
   "outputs": [],
   "source": []
  },
  {
   "cell_type": "code",
   "execution_count": null,
   "id": "9e624651",
   "metadata": {},
   "outputs": [],
   "source": []
  },
  {
   "cell_type": "code",
   "execution_count": null,
   "id": "ccf439fe",
   "metadata": {},
   "outputs": [],
   "source": []
  }
 ],
 "metadata": {
  "kernelspec": {
   "display_name": "Python 3 (ipykernel)",
   "language": "python",
   "name": "python3"
  },
  "language_info": {
   "codemirror_mode": {
    "name": "ipython",
    "version": 3
   },
   "file_extension": ".py",
   "mimetype": "text/x-python",
   "name": "python",
   "nbconvert_exporter": "python",
   "pygments_lexer": "ipython3",
   "version": "3.9.7"
  }
 },
 "nbformat": 4,
 "nbformat_minor": 5
}
