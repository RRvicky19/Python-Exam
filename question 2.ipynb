{
 "cells": [
  {
   "cell_type": "code",
   "execution_count": 1,
   "id": "5e8ed2c0",
   "metadata": {},
   "outputs": [],
   "source": [
    "d={'Square': lambda a : a*a,'Cube': lambda b : b*b*b,'Squareroot': lambda c : sqrt(c)}"
   ]
  },
  {
   "cell_type": "code",
   "execution_count": 2,
   "id": "aaa343f1",
   "metadata": {},
   "outputs": [
    {
     "name": "stdout",
     "output_type": "stream",
     "text": [
      "Enter the value5\n",
      "Enter the OperationSquare\n"
     ]
    }
   ],
   "source": [
    "n = int(input(\"Enter the value\"))\n",
    "a = input(\"Enter the Operation\")"
   ]
  },
  {
   "cell_type": "code",
   "execution_count": 7,
   "id": "0e320ab1",
   "metadata": {},
   "outputs": [
    {
     "name": "stdout",
     "output_type": "stream",
     "text": [
      "25\n"
     ]
    }
   ],
   "source": [
    "for i in d:\n",
    "    if(i==a):\n",
    "        print(d[i](n))"
   ]
  },
  {
   "cell_type": "code",
   "execution_count": null,
   "id": "ee911d03",
   "metadata": {},
   "outputs": [],
   "source": []
  },
  {
   "cell_type": "code",
   "execution_count": null,
   "id": "70ce417e",
   "metadata": {},
   "outputs": [],
   "source": []
  },
  {
   "cell_type": "code",
   "execution_count": null,
   "id": "c4a00025",
   "metadata": {},
   "outputs": [],
   "source": []
  }
 ],
 "metadata": {
  "kernelspec": {
   "display_name": "Python 3 (ipykernel)",
   "language": "python",
   "name": "python3"
  },
  "language_info": {
   "codemirror_mode": {
    "name": "ipython",
    "version": 3
   },
   "file_extension": ".py",
   "mimetype": "text/x-python",
   "name": "python",
   "nbconvert_exporter": "python",
   "pygments_lexer": "ipython3",
   "version": "3.9.7"
  }
 },
 "nbformat": 4,
 "nbformat_minor": 5
}
