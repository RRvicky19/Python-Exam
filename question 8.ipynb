{
 "cells": [
  {
   "cell_type": "code",
   "execution_count": 2,
   "id": "e62d48f6",
   "metadata": {},
   "outputs": [
    {
     "name": "stdout",
     "output_type": "stream",
     "text": [
      "9\n",
      "7.0\n",
      "7.0\n",
      "7.5\n",
      "6.25\n"
     ]
    }
   ],
   "source": [
    "from itertools import accumulate\n",
    "\n",
    "l=[9,5,7,8,5]\n",
    "num2=accumulate(l,lambda x,y:(x+y)/2)\n",
    "for i in num2:\n",
    "    print (i)"
   ]
  },
  {
   "cell_type": "code",
   "execution_count": null,
   "id": "8de88c23",
   "metadata": {},
   "outputs": [],
   "source": []
  }
 ],
 "metadata": {
  "kernelspec": {
   "display_name": "Python 3 (ipykernel)",
   "language": "python",
   "name": "python3"
  },
  "language_info": {
   "codemirror_mode": {
    "name": "ipython",
    "version": 3
   },
   "file_extension": ".py",
   "mimetype": "text/x-python",
   "name": "python",
   "nbconvert_exporter": "python",
   "pygments_lexer": "ipython3",
   "version": "3.9.7"
  }
 },
 "nbformat": 4,
 "nbformat_minor": 5
}
